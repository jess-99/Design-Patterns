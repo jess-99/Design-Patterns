{
 "cells": [
  {
   "cell_type": "markdown",
   "metadata": {},
   "source": [
    "This Demo demonstrates how to use singleton design pattern with python."
   ]
  },
  {
   "cell_type": "markdown",
   "metadata": {},
   "source": [
    "## First Method"
   ]
  },
  {
   "cell_type": "code",
   "execution_count": 7,
   "metadata": {},
   "outputs": [
    {
     "name": "stdout",
     "output_type": "stream",
     "text": [
      "<__main__.Person object at 0x0000027E81A8E010>\n",
      "Name: jess, Age: 24.\n",
      "<__main__.Person object at 0x0000027E81A8E010>\n"
     ]
    }
   ],
   "source": [
    "from abc import ABCMeta, abstractstaticmethod\n",
    "\n",
    "class IPerson(metaclass=ABCMeta):\n",
    "    \n",
    "    @abstractstaticmethod\n",
    "    def print_data():\n",
    "        \"\"\"implement in child class\"\"\"\n",
    "\n",
    "\n",
    "\n",
    "class Person(IPerson):\n",
    "    __instance = None\n",
    "\n",
    "    @staticmethod\n",
    "    def getInstance():\n",
    "        if Person.__instance == None:\n",
    "            Person(\"Deafault Name\", 0)\n",
    "        return Person.__instance\n",
    "\n",
    "    def __init__(self, name, age) :\n",
    "        if Person.__instance != None:\n",
    "            raise Exception(\"object of class already been instentiated.\")\n",
    "        else:\n",
    "            self.name = name\n",
    "            self.age = age\n",
    "            Person.__instance = self\n",
    "\n",
    "    @staticmethod\n",
    "    def print_data():\n",
    "        print(f\"Name: {Person.__instance.name}, Age: {Person.__instance.age}.\")\n",
    "\n",
    "\n",
    "p1 = Person(\"jess\", 24)\n",
    "print(p1)\n",
    "p1.print_data()\n",
    "\n",
    "# p2 = Person(\"bla\", 22)\n",
    "# print(p2)\n",
    "\n",
    "p2 = Person.getInstance()\n",
    "print(p2)"
   ]
  },
  {
   "cell_type": "markdown",
   "metadata": {},
   "source": [
    "## Second Method"
   ]
  },
  {
   "cell_type": "code",
   "execution_count": 4,
   "metadata": {},
   "outputs": [
    {
     "name": "stdout",
     "output_type": "stream",
     "text": [
      "<__main__.Singleton2 object at 0x0000027E81A3E490>\n",
      "<__main__.Singleton2 object at 0x0000027E81A3E490>\n",
      "10\n"
     ]
    }
   ],
   "source": [
    "class Singleton2:\n",
    "    __instance = None\n",
    "\n",
    "    def __new__(cls):\n",
    "        if(cls.__instance is None):\n",
    "            cls.__instance = \\\n",
    "            super(Singleton2, cls).__new__(cls)\n",
    "        return cls.__instance\n",
    "    \n",
    "\n",
    "s3 = Singleton2()\n",
    "print(s3)\n",
    "s4 = Singleton2()\n",
    "print(s4)\n",
    "\n",
    "s3.x = 10\n",
    "print(s4.x)"
   ]
  }
 ],
 "metadata": {
  "kernelspec": {
   "display_name": "Python 3",
   "language": "python",
   "name": "python3"
  },
  "language_info": {
   "codemirror_mode": {
    "name": "ipython",
    "version": 3
   },
   "file_extension": ".py",
   "mimetype": "text/x-python",
   "name": "python",
   "nbconvert_exporter": "python",
   "pygments_lexer": "ipython3",
   "version": "3.11.7"
  }
 },
 "nbformat": 4,
 "nbformat_minor": 2
}
